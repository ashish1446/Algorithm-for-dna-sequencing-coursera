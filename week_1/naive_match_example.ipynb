{
 "cells": [
  {
   "cell_type": "markdown",
   "id": "50e039aa-768d-4a56-8758-36478d4261c8",
   "metadata": {},
   "source": [
    "## Read alignment problem. Finds proportion of sequecing reads matching with the reference genome"
   ]
  },
  {
   "cell_type": "code",
   "execution_count": 1,
   "id": "17dd1545-e477-4074-a0af-7aca5cc018c2",
   "metadata": {},
   "outputs": [
    {
     "name": "stdout",
     "output_type": "stream",
     "text": [
      "--2023-07-09 00:47:37--  http://d28rh4a8wq0iu5.cloudfront.net/ads1/data/ERR266411_1.first1000.fastq\n",
      "Resolving d28rh4a8wq0iu5.cloudfront.net (d28rh4a8wq0iu5.cloudfront.net)... 18.161.245.142, 18.161.245.3, 18.161.245.40, ...\n",
      "Connecting to d28rh4a8wq0iu5.cloudfront.net (d28rh4a8wq0iu5.cloudfront.net)|18.161.245.142|:80... connected.\n",
      "HTTP request sent, awaiting response... 200 OK\n",
      "Length: 254384 (248K) [audio/mpeg]\n",
      "Saving to: ‘ERR266411_1.first1000.fastq’\n",
      "\n",
      "ERR266411_1.first10 100%[===================>] 248.42K   410KB/s    in 0.6s    \n",
      "\n",
      "2023-07-09 00:47:40 (410 KB/s) - ‘ERR266411_1.first1000.fastq’ saved [254384/254384]\n",
      "\n"
     ]
    }
   ],
   "source": [
    "!wget http://d28rh4a8wq0iu5.cloudfront.net/ads1/data/ERR266411_1.first1000.fastq #sequencing read"
   ]
  },
  {
   "cell_type": "code",
   "execution_count": 2,
   "id": "af45325c-21f4-4a3c-b400-50476fd9ac1a",
   "metadata": {},
   "outputs": [
    {
     "name": "stdout",
     "output_type": "stream",
     "text": [
      "--2023-07-09 00:47:44--  http://d28rh4a8wq0iu5.cloudfront.net/ads1/data/phix.fa\n",
      "Resolving d28rh4a8wq0iu5.cloudfront.net (d28rh4a8wq0iu5.cloudfront.net)... 18.161.245.142, 18.161.245.40, 18.161.245.3, ...\n",
      "Connecting to d28rh4a8wq0iu5.cloudfront.net (d28rh4a8wq0iu5.cloudfront.net)|18.161.245.142|:80... connected.\n",
      "HTTP request sent, awaiting response... 200 OK\n",
      "Length: 5528 (5.4K) [application/octet-stream]\n",
      "Saving to: ‘phix.fa’\n",
      "\n",
      "phix.fa             100%[===================>]   5.40K  --.-KB/s    in 0s      \n",
      "\n",
      "2023-07-09 00:47:45 (92.7 MB/s) - ‘phix.fa’ saved [5528/5528]\n",
      "\n"
     ]
    }
   ],
   "source": [
    "!wget http://d28rh4a8wq0iu5.cloudfront.net/ads1/data/phix.fa #viral genome"
   ]
  },
  {
   "cell_type": "code",
   "execution_count": 3,
   "id": "26ea9ca9-0e62-4fb3-aa45-c205296f9537",
   "metadata": {},
   "outputs": [],
   "source": [
    "def naiveMatch(P,T):\n",
    "    #returns positions at which a read matches the genome\n",
    "    offsets = []\n",
    "    \n",
    "    for i in range(len(T) - len(P) + 1):\n",
    "        match = True\n",
    "        \n",
    "        for j in range(len(P)):\n",
    "            if T[i+j] != P[j]:\n",
    "                match = False\n",
    "                break\n",
    "        if match:\n",
    "            offsets.append(i)\n",
    "        \n",
    "    return  offsets\n",
    "\n",
    "def readFasta(filename):\n",
    "    #reads a fasta file a returns a string of nucleotides from it\n",
    "    genome = ''\n",
    "    with open(filename, 'r') as f:\n",
    "        for line in f:\n",
    "            if not line[0] == '>':\n",
    "                genome += line.rstrip() #removes white space or new line character\n",
    "    return  genome\n",
    "\n",
    "import random\n",
    "def generateReads(genome, numReads, readLen):\n",
    "    '''Generate reads from random positions in the given genome.'''\n",
    "    \n",
    "    reads = []\n",
    "    for _ in range(numReads):\n",
    "        start = random.randint(0, len(genome) - readLen)\n",
    "        reads.append(genome[start : start + readLen])\n",
    "    return reads\n",
    "\n",
    "def readFastq(filename):\n",
    "    #reads a fastq- sequencing output file - and returns two lists of sequence and quality\n",
    "    sequences = []\n",
    "    qualities = []\n",
    "    with open(filename) as fh:\n",
    "        while True:\n",
    "            fh.readline()\n",
    "            seq = fh.readline().strip()\n",
    "            fh.readline()\n",
    "            qual = fh.readline().rstrip()\n",
    "            if len(seq) == 0: #check if the loop reached end of the file\n",
    "                break\n",
    "            sequences.append(seq)\n",
    "            qualities.append(qual)\n",
    "    return sequences, qualities\n",
    "\n",
    "\n",
    "def revComplement(s):\n",
    "    #gives reverse compliment of a nucleotide strin. N represents\n",
    "    #an unsure nucleotide from the sequecing data\n",
    "    complement = {'A':'T','T':'A','G':'C','C':'G', 'N':'N'}\n",
    "\n",
    "    rev_comp = ''\n",
    "    for base in s:\n",
    "        rev_comp = complement[base] + rev_comp\n",
    "        \n",
    "    return rev_comp\n",
    "\n"
   ]
  },
  {
   "cell_type": "code",
   "execution_count": 4,
   "id": "052e17a1-db39-4f1d-8291-1f76f65c03a9",
   "metadata": {},
   "outputs": [],
   "source": [
    "phix_reads, _ = readFastq('ERR266411_1.first1000.fastq')\n",
    "genome = readFasta('phix.fa')\n",
    "#reads = generateReads(genome, 100, 100)"
   ]
  },
  {
   "cell_type": "code",
   "execution_count": 5,
   "id": "efc2212c-1b45-4f5f-a7aa-a530e0b83064",
   "metadata": {},
   "outputs": [
    {
     "name": "stdout",
     "output_type": "stream",
     "text": [
      "459 / 1000 reads matched exactly\n"
     ]
    }
   ],
   "source": [
    "numMatched = 0\n",
    "n = 0\n",
    "for r in phix_reads:\n",
    "    r = r[:30]\n",
    "    matches = naiveMatch(r,genome)\n",
    "    n += 1\n",
    "    if len(matches) > 0:\n",
    "        numMatched += 1\n",
    "        \n",
    "print('%d / %d reads matched exactly' % (numMatched, n))"
   ]
  },
  {
   "cell_type": "markdown",
   "id": "e0dc60a9-2ecc-4efc-8950-52a013aaeffa",
   "metadata": {},
   "source": [
    "7/1000 is too low. it could be due to sequencing errors, or due to the difference in reference genome and actual genome.\n",
    "Next we reduce the read length to 30 from 100. it gave 459/1000 reads matched. \n",
    "Another reason why the matches are low even tho reads are from the same genome (matched against reference genome) is because the genome is double stranded but the reads can be from any of the two, but our programe only looks on one the strands, its not looking on both. we should not only match the read to the genome but also match reverse complement of the reads to the genome."
   ]
  },
  {
   "cell_type": "code",
   "execution_count": 6,
   "id": "8493da34-701d-4e5d-be80-218345303db7",
   "metadata": {},
   "outputs": [
    {
     "name": "stdout",
     "output_type": "stream",
     "text": [
      "932 / 1000 reads matched exactly\n"
     ]
    }
   ],
   "source": [
    "numMatched = 0\n",
    "n = 0\n",
    "for r in phix_reads:\n",
    "    r = r[:30]\n",
    "    matches = naiveMatch(r,genome)\n",
    "    matches.extend(naiveMatch(revComplement(r), genome))\n",
    "    n += 1\n",
    "    if len(matches) > 0:\n",
    "        numMatched += 1\n",
    "        \n",
    "print('%d / %d reads matched exactly' % (numMatched, n))"
   ]
  },
  {
   "cell_type": "markdown",
   "id": "e93e1b11-e86d-4463-bff3-4eb3b93bf4be",
   "metadata": {},
   "source": [
    "When reverse complement is also matched 932/1000 reads matched with the genome."
   ]
  }
 ],
 "metadata": {
  "kernelspec": {
   "display_name": "Python 3 (ipykernel)",
   "language": "python",
   "name": "python3"
  },
  "language_info": {
   "codemirror_mode": {
    "name": "ipython",
    "version": 3
   },
   "file_extension": ".py",
   "mimetype": "text/x-python",
   "name": "python",
   "nbconvert_exporter": "python",
   "pygments_lexer": "ipython3",
   "version": "3.10.6"
  }
 },
 "nbformat": 4,
 "nbformat_minor": 5
}
